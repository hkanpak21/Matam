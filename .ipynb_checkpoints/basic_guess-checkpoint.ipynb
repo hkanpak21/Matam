{
 "cells": [
  {
   "cell_type": "code",
   "execution_count": 35,
   "id": "1b86992e-7510-4677-91e9-e3f406f95d74",
   "metadata": {},
   "outputs": [],
   "source": [
    "import folium\n",
    "import pandas as pd\n",
    "import numpy as np\n",
    "from sklearn.model_selection import train_test_split\n",
    "from sklearn.ensemble import RandomForestRegressor\n",
    "from sklearn.metrics import mean_squared_error"
   ]
  },
  {
   "cell_type": "code",
   "execution_count": 2,
   "id": "79105e20-cc04-43d3-a6f3-89fc0ff80a26",
   "metadata": {},
   "outputs": [],
   "source": [
    "data_path = 'Data/AFAD_1900_today_31461754_4_9.csv'\n",
    "df = pd.read_csv(data_path)\n",
    "df['Date'] = pd.to_datetime(df['Date'], format='%d/%m/%Y %H:%M:%S')"
   ]
  },
  {
   "cell_type": "code",
   "execution_count": 5,
   "id": "671d4b77-154e-4043-b11d-1284c14e6e92",
   "metadata": {},
   "outputs": [],
   "source": [
    "df['Year'] = df['Date'].dt.year\n",
    "df['Month'] = df['Date'].dt.month\n",
    "df['Day'] = df['Date'].dt.day\n",
    "df['Hour'] = df['Date'].dt.hour\n",
    "df['Previous_Magnitude'] = df['Magnitude'].shift(1).bfill()  # Updated to use bfill()"
   ]
  },
  {
   "cell_type": "code",
   "execution_count": 23,
   "id": "1d83b735-e79a-43c8-ac02-8b9971385b85",
   "metadata": {},
   "outputs": [],
   "source": [
    "features = ['Longitude', 'Latitude', 'Depth', 'Year', 'Month', 'Day', 'Hour', 'Previous_Magnitude']\n",
    "X = df[features]\n",
    "y = df['Magnitude']\n",
    "# Split the dataset\n",
    "X_train, X_test, y_train, y_test = train_test_split(X, y, test_size=0.2, random_state=42)"
   ]
  },
  {
   "cell_type": "code",
   "execution_count": 21,
   "id": "3ec31984-aadd-4297-b9c7-dc36ff70d7e8",
   "metadata": {},
   "outputs": [
    {
     "name": "stdout",
     "output_type": "stream",
     "text": [
      "Mean Squared Error: 0.14740415534813045\n"
     ]
    }
   ],
   "source": [
    "# Model\n",
    "model = RandomForestRegressor(n_estimators=100)\n",
    "model.fit(X_train, y_train)\n",
    "\n",
    "# Predictions and evaluation\n",
    "y_pred = model.predict(X_test)\n",
    "error = mean_squared_error(y_test, y_pred)\n",
    "print(f'Mean Squared Error: {error}')"
   ]
  },
  {
   "cell_type": "code",
   "execution_count": 34,
   "id": "02635a5f-059a-4163-a74d-fad932320f71",
   "metadata": {},
   "outputs": [
    {
     "name": "stdout",
     "output_type": "stream",
     "text": [
      "Predicted Magnitude of the next earthquake: 4.571000000000001\n"
     ]
    }
   ],
   "source": [
    "next_eq_features = pd.DataFrame([[30.00, 40.00, 10.0, 2023, 1, 1, 12, 4.5]], columns=features)\n",
    "predicted_magnitude = model.predict(next_eq_features)\n",
    "print(f'Predicted Magnitude of the next earthquake: {predicted_magnitude[0]}')"
   ]
  },
  {
   "cell_type": "code",
   "execution_count": 40,
   "id": "a533d6e4-0d9f-4639-9025-21ce8c2b386a",
   "metadata": {},
   "outputs": [],
   "source": [
    "map = folium.Map(location=[38.9637, 35.2433], zoom_start=5)  # Centered on Turkey\n",
    "\n",
    "# Add actual earthquake locations\n",
    "for idx, row in X_test.iterrows():\n",
    "    folium.Circle(\n",
    "        location=[row['Latitude'], row['Longitude']],\n",
    "        radius=3 * y_test.loc[idx],  # Changed from iloc to loc\n",
    "        color='red',\n",
    "        fill=True,\n",
    "        fill_color='red',\n",
    "        fill_opacity=0.7,\n",
    "        popup=f\"Actual Magnitude: {y_test.loc[idx]}\"\n",
    "    ).add_to(map)\n",
    "\n",
    "# Add predicted earthquake locations\n",
    "for idx, (index, row) in enumerate(X_test.iterrows()):\n",
    "    folium.Circle(\n",
    "        location=[row['Latitude'], row['Longitude']],\n",
    "        radius=3 * y_pred[idx],  # Radius scaled by predicted magnitude\n",
    "        color='blue',\n",
    "        fill=True,\n",
    "        fill_color='red',\n",
    "        fill_opacity=0.5,\n",
    "        popup=f\"Predicted Magnitude: {y_pred[idx]}\"\n",
    "    ).add_to(map)\n",
    "\n",
    "# Save or show the map\n",
    "map.save('earthquake_predictions.html')"
   ]
  }
 ],
 "metadata": {
  "kernelspec": {
   "display_name": "Python 3 (ipykernel)",
   "language": "python",
   "name": "python3"
  },
  "language_info": {
   "codemirror_mode": {
    "name": "ipython",
    "version": 3
   },
   "file_extension": ".py",
   "mimetype": "text/x-python",
   "name": "python",
   "nbconvert_exporter": "python",
   "pygments_lexer": "ipython3",
   "version": "3.12.4"
  }
 },
 "nbformat": 4,
 "nbformat_minor": 5
}
