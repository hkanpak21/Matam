{
 "cells": [
  {
   "cell_type": "code",
   "execution_count": 2,
   "id": "5e515648-4eef-497d-b23c-62fa635bc196",
   "metadata": {},
   "outputs": [],
   "source": [
    "import torch"
   ]
  },
  {
   "cell_type": "code",
   "execution_count": 3,
   "id": "70034ba5-2822-4c3a-a0eb-9ad351f5734d",
   "metadata": {},
   "outputs": [
    {
     "name": "stdout",
     "output_type": "stream",
     "text": [
      "PyTorch is using CPU\n"
     ]
    }
   ],
   "source": [
    "if torch.cuda.is_available():\n",
    "    device = torch.device(\"cuda\")\n",
    "    print(\"PyTorch is using GPU\")\n",
    "else:\n",
    "    device = torch.device(\"cpu\")\n",
    "    print(\"PyTorch is using CPU\")"
   ]
  },
  {
   "cell_type": "code",
   "execution_count": 6,
   "id": "577bf8d4-acf6-4bb4-a371-ede52cf589b2",
   "metadata": {},
   "outputs": [
    {
     "name": "stdout",
     "output_type": "stream",
     "text": [
      "Result of matrix multiplication:\n",
      " tensor([[0.9850, 0.9721, 0.7298],\n",
      "        [0.8359, 0.8457, 0.6380],\n",
      "        [0.4164, 0.4015, 0.3530]])\n"
     ]
    }
   ],
   "source": [
    "tensor_a = torch.rand(3, 3, device=device)\n",
    "tensor_b = torch.rand(3, 3, device=device)\n",
    "\n",
    "# Perform a simple matrix multiplication\n",
    "result = torch.matmul(tensor_a, tensor_b)\n",
    "print(\"Result of matrix multiplication:\\n\", result)"
   ]
  }
 ],
 "metadata": {
  "kernelspec": {
   "display_name": "Python 3 (ipykernel)",
   "language": "python",
   "name": "python3"
  },
  "language_info": {
   "codemirror_mode": {
    "name": "ipython",
    "version": 3
   },
   "file_extension": ".py",
   "mimetype": "text/x-python",
   "name": "python",
   "nbconvert_exporter": "python",
   "pygments_lexer": "ipython3",
   "version": "3.12.4"
  }
 },
 "nbformat": 4,
 "nbformat_minor": 5
}
