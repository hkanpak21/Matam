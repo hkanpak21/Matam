{
 "cells": [
  {
   "cell_type": "code",
   "execution_count": 2,
   "id": "1b86992e-7510-4677-91e9-e3f406f95d74",
   "metadata": {},
   "outputs": [],
   "source": [
    "import folium\n",
    "import pandas as pd\n",
    "import numpy as np\n",
    "import matplotlib as plt\n",
    "from sklearn.model_selection import train_test_split\n",
    "from sklearn.ensemble import RandomForestRegressor\n",
    "from sklearn.metrics import mean_squared_error"
   ]
  },
  {
   "cell_type": "code",
   "execution_count": 3,
   "id": "79105e20-cc04-43d3-a6f3-89fc0ff80a26",
   "metadata": {},
   "outputs": [],
   "source": [
    "data_path = 'Data/AFAD_1900_today_31461754_4_9.csv'\n",
    "df = pd.read_csv(data_path)\n",
    "df['Date'] = pd.to_datetime(df['Date'], format='%d/%m/%Y %H:%M:%S')"
   ]
  },
  {
   "cell_type": "code",
   "execution_count": 4,
   "id": "671d4b77-154e-4043-b11d-1284c14e6e92",
   "metadata": {},
   "outputs": [],
   "source": [
    "df['Year'] = df['Date'].dt.year\n",
    "df['Month'] = df['Date'].dt.month\n",
    "df['Day'] = df['Date'].dt.day\n",
    "df['Hour'] = df['Date'].dt.hour\n",
    "df['Previous_Magnitude'] = df['Magnitude'].shift(1).bfill()"
   ]
  },
  {
   "cell_type": "code",
   "execution_count": 5,
   "id": "1d83b735-e79a-43c8-ac02-8b9971385b85",
   "metadata": {},
   "outputs": [],
   "source": [
    "features = ['Longitude', 'Latitude', 'Depth', 'Year', 'Month', 'Day', 'Hour', 'Previous_Magnitude']\n",
    "X = df[features]\n",
    "y = df['Magnitude']\n",
    "# Split the dataset\n",
    "X_train, X_test, y_train, y_test = train_test_split(X, y, test_size=0.2, random_state=42)"
   ]
  },
  {
   "cell_type": "code",
   "execution_count": 6,
   "id": "7e016135-aeff-4885-aa42-12b3943e4653",
   "metadata": {},
   "outputs": [
    {
     "data": {
      "text/html": [
       "<div>\n",
       "<style scoped>\n",
       "    .dataframe tbody tr th:only-of-type {\n",
       "        vertical-align: middle;\n",
       "    }\n",
       "\n",
       "    .dataframe tbody tr th {\n",
       "        vertical-align: top;\n",
       "    }\n",
       "\n",
       "    .dataframe thead th {\n",
       "        text-align: right;\n",
       "    }\n",
       "</style>\n",
       "<table border=\"1\" class=\"dataframe\">\n",
       "  <thead>\n",
       "    <tr style=\"text-align: right;\">\n",
       "      <th></th>\n",
       "      <th>Date</th>\n",
       "      <th>Longitude</th>\n",
       "      <th>Latitude</th>\n",
       "      <th>Depth</th>\n",
       "      <th>Type</th>\n",
       "      <th>Magnitude</th>\n",
       "      <th>Location</th>\n",
       "      <th>EventID</th>\n",
       "      <th>TimeName</th>\n",
       "      <th>TypeName</th>\n",
       "      <th>MagnitudeName</th>\n",
       "      <th>Year</th>\n",
       "      <th>Month</th>\n",
       "      <th>Day</th>\n",
       "      <th>Hour</th>\n",
       "      <th>Previous_Magnitude</th>\n",
       "    </tr>\n",
       "  </thead>\n",
       "  <tbody>\n",
       "    <tr>\n",
       "      <th>0</th>\n",
       "      <td>1903-04-29 16:07:56</td>\n",
       "      <td>42.65</td>\n",
       "      <td>39.15</td>\n",
       "      <td>33.0</td>\n",
       "      <td>MS</td>\n",
       "      <td>5.0</td>\n",
       "      <td>-</td>\n",
       "      <td>7821</td>\n",
       "      <td>Ambraseys-Finkel 1987</td>\n",
       "      <td>Ambraseys-Finkel 1987</td>\n",
       "      <td>Ambraseys-Finkel 1987</td>\n",
       "      <td>1903</td>\n",
       "      <td>4</td>\n",
       "      <td>29</td>\n",
       "      <td>16</td>\n",
       "      <td>5.0</td>\n",
       "    </tr>\n",
       "    <tr>\n",
       "      <th>1</th>\n",
       "      <td>1903-04-30 04:12:56</td>\n",
       "      <td>42.65</td>\n",
       "      <td>39.15</td>\n",
       "      <td>10.0</td>\n",
       "      <td>MS</td>\n",
       "      <td>4.6</td>\n",
       "      <td>-</td>\n",
       "      <td>7822</td>\n",
       "      <td>Ambraseys-Finkel 1987</td>\n",
       "      <td>Ambraseys-Finkel 1987</td>\n",
       "      <td>Ambraseys-Finkel 1987</td>\n",
       "      <td>1903</td>\n",
       "      <td>4</td>\n",
       "      <td>30</td>\n",
       "      <td>4</td>\n",
       "      <td>5.0</td>\n",
       "    </tr>\n",
       "    <tr>\n",
       "      <th>2</th>\n",
       "      <td>1903-05-03 01:56:56</td>\n",
       "      <td>41.50</td>\n",
       "      <td>38.70</td>\n",
       "      <td>10.0</td>\n",
       "      <td>MS</td>\n",
       "      <td>4.9</td>\n",
       "      <td>-</td>\n",
       "      <td>7823</td>\n",
       "      <td>Ayhan ve Diğ.1981</td>\n",
       "      <td>Ayhan ve Diğ.1981</td>\n",
       "      <td>Ayhan ve Diğ.1981</td>\n",
       "      <td>1903</td>\n",
       "      <td>5</td>\n",
       "      <td>3</td>\n",
       "      <td>1</td>\n",
       "      <td>4.6</td>\n",
       "    </tr>\n",
       "    <tr>\n",
       "      <th>3</th>\n",
       "      <td>1903-05-21 20:56:56</td>\n",
       "      <td>42.50</td>\n",
       "      <td>39.00</td>\n",
       "      <td>10.0</td>\n",
       "      <td>MS</td>\n",
       "      <td>4.2</td>\n",
       "      <td>-</td>\n",
       "      <td>7824</td>\n",
       "      <td>Ambraseys-Finkel 1987</td>\n",
       "      <td>Ambraseys-Finkel 1987</td>\n",
       "      <td>Ambraseys-Finkel 1987</td>\n",
       "      <td>1903</td>\n",
       "      <td>5</td>\n",
       "      <td>21</td>\n",
       "      <td>20</td>\n",
       "      <td>4.9</td>\n",
       "    </tr>\n",
       "    <tr>\n",
       "      <th>4</th>\n",
       "      <td>1903-05-26 08:05:56</td>\n",
       "      <td>29.00</td>\n",
       "      <td>40.65</td>\n",
       "      <td>10.0</td>\n",
       "      <td>MS</td>\n",
       "      <td>5.9</td>\n",
       "      <td>-</td>\n",
       "      <td>7825</td>\n",
       "      <td>Ambraseys-Finkel 1987</td>\n",
       "      <td>Ambraseys-Finkel 1987</td>\n",
       "      <td>Ambraseys-Finkel 1987</td>\n",
       "      <td>1903</td>\n",
       "      <td>5</td>\n",
       "      <td>26</td>\n",
       "      <td>8</td>\n",
       "      <td>4.2</td>\n",
       "    </tr>\n",
       "  </tbody>\n",
       "</table>\n",
       "</div>"
      ],
      "text/plain": [
       "                 Date  Longitude  Latitude  Depth Type  Magnitude Location  \\\n",
       "0 1903-04-29 16:07:56      42.65     39.15   33.0   MS        5.0        -   \n",
       "1 1903-04-30 04:12:56      42.65     39.15   10.0   MS        4.6        -   \n",
       "2 1903-05-03 01:56:56      41.50     38.70   10.0   MS        4.9        -   \n",
       "3 1903-05-21 20:56:56      42.50     39.00   10.0   MS        4.2        -   \n",
       "4 1903-05-26 08:05:56      29.00     40.65   10.0   MS        5.9        -   \n",
       "\n",
       "   EventID               TimeName               TypeName  \\\n",
       "0     7821  Ambraseys-Finkel 1987  Ambraseys-Finkel 1987   \n",
       "1     7822  Ambraseys-Finkel 1987  Ambraseys-Finkel 1987   \n",
       "2     7823      Ayhan ve Diğ.1981      Ayhan ve Diğ.1981   \n",
       "3     7824  Ambraseys-Finkel 1987  Ambraseys-Finkel 1987   \n",
       "4     7825  Ambraseys-Finkel 1987  Ambraseys-Finkel 1987   \n",
       "\n",
       "           MagnitudeName  Year  Month  Day  Hour  Previous_Magnitude  \n",
       "0  Ambraseys-Finkel 1987  1903      4   29    16                 5.0  \n",
       "1  Ambraseys-Finkel 1987  1903      4   30     4                 5.0  \n",
       "2      Ayhan ve Diğ.1981  1903      5    3     1                 4.6  \n",
       "3  Ambraseys-Finkel 1987  1903      5   21    20                 4.9  \n",
       "4  Ambraseys-Finkel 1987  1903      5   26     8                 4.2  "
      ]
     },
     "execution_count": 6,
     "metadata": {},
     "output_type": "execute_result"
    }
   ],
   "source": [
    "df.head()"
   ]
  },
  {
   "cell_type": "code",
   "execution_count": 7,
   "id": "3ec31984-aadd-4297-b9c7-dc36ff70d7e8",
   "metadata": {},
   "outputs": [
    {
     "name": "stdout",
     "output_type": "stream",
     "text": [
      "Mean Squared Error: 0.14707262943372323\n"
     ]
    }
   ],
   "source": [
    "# Model\n",
    "model = RandomForestRegressor(n_estimators=100)\n",
    "model.fit(X_train, y_train)\n",
    "\n",
    "# Predictions and evaluation\n",
    "y_pred = model.predict(X_test)\n",
    "error = mean_squared_error(y_test, y_pred)\n",
    "print(f'Mean Squared Error: {error}')"
   ]
  },
  {
   "cell_type": "code",
   "execution_count": 8,
   "id": "02635a5f-059a-4163-a74d-fad932320f71",
   "metadata": {},
   "outputs": [
    {
     "name": "stdout",
     "output_type": "stream",
     "text": [
      "Predicted Magnitude of the next earthquake: 4.659999999999999\n"
     ]
    }
   ],
   "source": [
    "next_eq_features = pd.DataFrame([[37.84, 32.36, 10.0, 2023, 1, 1, 12, 4.5]], columns=features)\n",
    "predicted_magnitude = model.predict(next_eq_features)\n",
    "print(f'Predicted Magnitude of the next earthquake: {predicted_magnitude[0]}')"
   ]
  },
  {
   "cell_type": "markdown",
   "id": "c6da9943-fd63-4f15-bb8a-fab8a8c68f62",
   "metadata": {},
   "source": [
    "# Map visualization"
   ]
  },
  {
   "cell_type": "code",
   "execution_count": 13,
   "id": "a533d6e4-0d9f-4639-9025-21ce8c2b386a",
   "metadata": {},
   "outputs": [],
   "source": [
    "map = folium.Map(location=[38.9637, 35.2433], zoom_start=5)  # Centered on Turkey\n",
    "\n",
    "# Add actual earthquake locations\n",
    "for idx, row in X_test.iterrows():\n",
    "    folium.Circle(\n",
    "        location=[row['Latitude'], row['Longitude']],\n",
    "        radius=2** y_test.loc[idx],  # Changed from iloc to loc\n",
    "        color='red',\n",
    "        fill=True,\n",
    "        fill_color='red',\n",
    "        fill_opacity=0.7,\n",
    "        popup=f\"Actual Magnitude: {y_test.loc[idx]}\"\n",
    "    ).add_to(map)\n",
    "map.save('earthquake_real.html')\n",
    "# Add predicted earthquake locations\n",
    "for idx, (index, row) in enumerate(X_test.iterrows()):\n",
    "    folium.Circle(\n",
    "        location=[row['Latitude'], row['Longitude']],\n",
    "        radius=2** y_pred[idx],  # Radius scaled by predicted magnitude\n",
    "        color='blue',\n",
    "        fill=True,\n",
    "        fill_color='blue',\n",
    "        fill_opacity=0.5,\n",
    "        popup=f\"Predicted Magnitude: {y_pred[idx]}\"\n",
    "    ).add_to(map)\n",
    "\n",
    "# Save or show the map\n",
    "map.save('earthquake_predictions.html')"
   ]
  },
  {
   "cell_type": "markdown",
   "id": "8a682798-4ba2-4974-ad0d-6d9768e3935a",
   "metadata": {},
   "source": [
    "# Grid predictions"
   ]
  },
  {
   "cell_type": "code",
   "execution_count": 10,
   "id": "280b5635-fc93-4f2d-9947-75611864e742",
   "metadata": {},
   "outputs": [],
   "source": [
    "# Define the bounds of the grid\n",
    "lat_start, lat_end = 36, 42  # Rough latitude bounds for Turkey\n",
    "lon_start, lon_end = 26, 45  # Rough longitude bounds for Turkey\n",
    "\n",
    "# Generate grid points with 10km spacing\n",
    "# Assuming roughly 111 km per degree of latitude or longitude\n",
    "km_per_degree = 111\n",
    "spacing = 10 / km_per_degree  # Convert 10 km into degrees\n",
    "\n",
    "latitudes = np.arange(lat_start, lat_end, spacing)\n",
    "longitudes = np.arange(lon_start, lon_end, spacing)"
   ]
  },
  {
   "cell_type": "code",
   "execution_count": 11,
   "id": "cd5a4cb0-41eb-44e3-a5f7-080b7ba4b3cd",
   "metadata": {},
   "outputs": [],
   "source": [
    "mean_previous_magnitude = df['Magnitude'].mean()  # Calculate the mean of magnitudes\n",
    "\n",
    "# Generate grid points\n",
    "mean_depth = df['Depth'].mean()\n",
    "grid_points = [(lon, lat, mean_depth, 2020, 1, 1, 12, mean_previous_magnitude) \n",
    "               for lat in latitudes for lon in longitudes]\n",
    "\n",
    "# Create DataFrame for predictions\n",
    "grid_df = pd.DataFrame(grid_points, columns=['Longitude','Latitude',  'Depth', \n",
    "                                             'Year', 'Month', 'Day', 'Hour', 'Previous_Magnitude'])\n",
    "\n",
    "# Predict magnitudes\n",
    "predicted_magnitudes = model.predict(grid_df)\n"
   ]
  },
  {
   "cell_type": "code",
   "execution_count": 12,
   "id": "3bd05ce2-a999-4572-950e-67ab0e4b0f0a",
   "metadata": {},
   "outputs": [],
   "source": [
    "lat_start, lat_end = 36, 42  # Rough latitude bounds for Turkey\n",
    "lon_start, lon_end = 26, 45  # Rough longitude bounds for Turkey\n",
    "map = folium.Map(location=[(lat_start + lat_end) / 2, (lon_start + lon_end) / 2], zoom_start=6)\n",
    "\n",
    "# Assuming predicted_magnitudes corresponds to each point in grid_points\n",
    "for point, mag in zip(grid_points, predicted_magnitudes):\n",
    "    lon, lat = point[0], point[1]  # Corrected unpacking\n",
    "    # Convert magnitude to color, assuming a range of magnitudes from 3 to 7 for example\n",
    "    norm_mag = (mag - 3) / (7 - 3)  # Normalize magnitude to range [0,1]\n",
    "    color = plt.cm.RdBu_r(norm_mag)  # Red to Blue color map, high magnitude = red\n",
    "    \n",
    "    # Add circle\n",
    "    folium.Circle(\n",
    "        location=[lat, lon],\n",
    "        radius=2000,  # Example fixed radius, scale as needed\n",
    "        color=plt.colors.to_hex(color),\n",
    "        fill=True,\n",
    "        fill_color=plt.colors.to_hex(color),\n",
    "        fill_opacity=0.7,\n",
    "        popup=f\"Predicted Magnitude: {mag:.2f}\"\n",
    "    ).add_to(map)\n",
    "\n",
    "# Save or display the map\n",
    "map.save('earthquake_grid_predictions.html')"
   ]
  }
 ],
 "metadata": {
  "kernelspec": {
   "display_name": "Python 3 (ipykernel)",
   "language": "python",
   "name": "python3"
  },
  "language_info": {
   "codemirror_mode": {
    "name": "ipython",
    "version": 3
   },
   "file_extension": ".py",
   "mimetype": "text/x-python",
   "name": "python",
   "nbconvert_exporter": "python",
   "pygments_lexer": "ipython3",
   "version": "3.12.4"
  }
 },
 "nbformat": 4,
 "nbformat_minor": 5
}
